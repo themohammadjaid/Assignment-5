{
 "cells": [
  {
   "cell_type": "code",
   "execution_count": 1,
   "id": "43873191-407c-4342-ac29-6de835ea0768",
   "metadata": {},
   "outputs": [],
   "source": [
    "#Q1. Create a function which will take a list as \n",
    "#an argument and return the product of all the numbers\n",
    "#after creating a flat list.\n",
    "#Use the below-given list as an argument for your function.\n",
    "list1 = [1,2,3,4, [44,55,66, True], False, (34,56,78,89,34), {1,2,3,3,2,1}, {1:34, \"key2\": [55, 67, 78, 89], 4: (45,\n",
    "22, 61, 34)}, [56, 'data science'], 'Machine Learning']\n",
    "#Note: you must extract numeric keys and \n",
    "#values of the dictionary also."
   ]
  },
  {
   "cell_type": "code",
   "execution_count": 2,
   "id": "5ca26b64-b406-4ad6-8903-3c9d9591643a",
   "metadata": {},
   "outputs": [
    {
     "name": "stdout",
     "output_type": "stream",
     "text": [
      "[1, 2, 3, 4, 44, 55, 66, True, False, 34, 56, 78, 89, 34, 1, 2, 3, 1, 34, 'key2', 55, 67, 78, 89, 4, 45, 22, 61, 34, 56, 'data science', 'Machine Learning']\n",
      "4134711838987085478833841242112000\n"
     ]
    }
   ],
   "source": [
    "list1 = [1,2,3,4, [44,55,66, True], False, (34,56,78,89,34), {1,2,3,3,2,1},{1:34, \"key2\": [55, 67, 78, 89], 4: (45,22, 61, 34)}, [56, 'data science'], 'Machine Learning']# phase 1\n",
    "def flatlist(list1):\n",
    "    flist=[]\n",
    "    for i in list1:\n",
    "        if type(i)==list or type(i)==tuple or type(i)==set:\n",
    "            for element in i:\n",
    "                flist.append(element)\n",
    "        elif type(i)==dict:\n",
    "            temp_list=list(i.items())\n",
    "            for i in temp_list: # [(1, 34), ('key2', [55, 67, 78, 89]), (4, (45, 22, 61, 34))\n",
    "                for element in i:\n",
    "                    if type(element)==list or type(element)==tuple:\n",
    "                        for j in element:\n",
    "                            flist.append(j)\n",
    "                    else:\n",
    "                        flist.append(element)\n",
    "        else:\n",
    "            flist.append(i)\n",
    "    return flist\n",
    "list2=flatlist(list1)\n",
    "print(list2)\n",
    "a=1\n",
    "for i in list2:\n",
    "    if type(i)==int:\n",
    "        a=a*i\n",
    "print(a)"
   ]
  },
  {
   "cell_type": "code",
   "execution_count": null,
   "id": "520195a4-c323-43e0-b8b4-716908525bbc",
   "metadata": {},
   "outputs": [],
   "source": []
  },
  {
   "cell_type": "code",
   "execution_count": null,
   "id": "f809e7d6-9dee-4b47-ac81-835a0de08b4b",
   "metadata": {},
   "outputs": [],
   "source": [
    "def encrypt_message(message):\n",
    "    # Convert message to lowercase\n",
    "    message = message.lower()\n",
    "    # Create a dictionary for mapping letters to their encrypted counterparts\n",
    "    mapping = {chr(i): chr(219 - i) for i in range(97, 123)}\n",
    "    # Replace whitespace with dollar sign\n",
    "    message = message.replace(' ', '$')\n",
    "    # Encrypt each letter in the message using the mapping dictionary\n",
    "    encrypted_message = ''.join([mapping.get(letter, letter) for letter in message])\n",
    "    return encrypted_message"
   ]
  }
 ],
 "metadata": {
  "kernelspec": {
   "display_name": "Python 3 (ipykernel)",
   "language": "python",
   "name": "python3"
  },
  "language_info": {
   "codemirror_mode": {
    "name": "ipython",
    "version": 3
   },
   "file_extension": ".py",
   "mimetype": "text/x-python",
   "name": "python",
   "nbconvert_exporter": "python",
   "pygments_lexer": "ipython3",
   "version": "3.10.8"
  }
 },
 "nbformat": 4,
 "nbformat_minor": 5
}
